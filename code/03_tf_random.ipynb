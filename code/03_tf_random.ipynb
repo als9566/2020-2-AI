{
  "nbformat": 4,
  "nbformat_minor": 0,
  "metadata": {
    "colab": {
      "name": "03-tf-random.ipynb",
      "provenance": [],
      "collapsed_sections": [],
      "authorship_tag": "ABX9TyOzrQNp3GPOjlWM6hfW2i3B",
      "include_colab_link": true
    },
    "kernelspec": {
      "name": "python3",
      "display_name": "Python 3"
    }
  },
  "cells": [
    {
      "cell_type": "markdown",
      "metadata": {
        "id": "view-in-github",
        "colab_type": "text"
      },
      "source": [
        "<a href=\"https://colab.research.google.com/github/als9566/2020-2-AI/blob/master/code/03_tf_random.ipynb\" target=\"_parent\"><img src=\"https://colab.research.google.com/assets/colab-badge.svg\" alt=\"Open In Colab\"/></a>"
      ]
    },
    {
      "cell_type": "markdown",
      "metadata": {
        "id": "QBxR5tbSepr-"
      },
      "source": [
        "#균등분포 난수"
      ]
    },
    {
      "cell_type": "code",
      "metadata": {
        "id": "ILsqK6uye0u_",
        "outputId": "38144920-e59e-483e-b8d5-e96660fec3b1",
        "colab": {
          "base_uri": "https://localhost:8080/",
          "height": 35
        }
      },
      "source": [
        "import tensorflow as tf\n",
        "tf.__version__"
      ],
      "execution_count": null,
      "outputs": [
        {
          "output_type": "execute_result",
          "data": {
            "application/vnd.google.colaboratory.intrinsic+json": {
              "type": "string"
            },
            "text/plain": [
              "'2.3.0'"
            ]
          },
          "metadata": {
            "tags": []
          },
          "execution_count": 2
        }
      ]
    },
    {
      "cell_type": "code",
      "metadata": {
        "id": "70PHmHoJeSXr",
        "outputId": "5d1bd500-6796-4f86-b8a1-5def02ce7044",
        "colab": {
          "base_uri": "https://localhost:8080/",
          "height": 34
        }
      },
      "source": [
        "rand = tf.random.uniform([1],0,1)\n",
        "print(rand)"
      ],
      "execution_count": null,
      "outputs": [
        {
          "output_type": "stream",
          "text": [
            "tf.Tensor([0.63884985], shape=(1,), dtype=float32)\n"
          ],
          "name": "stdout"
        }
      ]
    },
    {
      "cell_type": "code",
      "metadata": {
        "id": "-PYEDVU2eo6E",
        "outputId": "c9879985-0955-45a0-862a-623b2f95b0fe",
        "colab": {
          "base_uri": "https://localhost:8080/",
          "height": 122
        }
      },
      "source": [
        "rand = tf.random.uniform([5,4],0,1)\n",
        "print(rand)"
      ],
      "execution_count": null,
      "outputs": [
        {
          "output_type": "stream",
          "text": [
            "tf.Tensor(\n",
            "[[0.21596253 0.30637527 0.92725766 0.34066272]\n",
            " [0.94747794 0.42523384 0.4015826  0.8672583 ]\n",
            " [0.9115337  0.45417905 0.05864942 0.9330628 ]\n",
            " [0.00333476 0.2747594  0.27145576 0.1311202 ]\n",
            " [0.4530146  0.12235188 0.46187162 0.36761975]], shape=(5, 4), dtype=float32)\n"
          ],
          "name": "stdout"
        }
      ]
    },
    {
      "cell_type": "code",
      "metadata": {
        "id": "7gEOyhdTe_Q3",
        "outputId": "bcea13bf-4187-49be-b454-a18ce5526a62",
        "colab": {
          "base_uri": "https://localhost:8080/",
          "height": 70
        }
      },
      "source": [
        "rand = tf.random.uniform([1000],0,10)\n",
        "print(rand[:10])"
      ],
      "execution_count": null,
      "outputs": [
        {
          "output_type": "stream",
          "text": [
            "tf.Tensor(\n",
            "[4.0653267 1.37959   2.1953857 1.7983735 1.2915277 7.4806967 1.7252374\n",
            " 2.9938614 5.0201807 2.2872424], shape=(10,), dtype=float32)\n"
          ],
          "name": "stdout"
        }
      ]
    },
    {
      "cell_type": "code",
      "metadata": {
        "id": "FLJjxdu0fEMf",
        "outputId": "d0bf9535-f229-4465-bcca-5034e4ea9f13",
        "colab": {
          "base_uri": "https://localhost:8080/",
          "height": 370
        }
      },
      "source": [
        "import matplotlib.pyplot as plt\n",
        "rand = tf.random.uniform([10000],0,50)\n",
        "plt.hist(rand, bins=10)"
      ],
      "execution_count": 6,
      "outputs": [
        {
          "output_type": "execute_result",
          "data": {
            "text/plain": [
              "(array([1032.,  983.,  993.,  998.,  977., 1035.,  990.,  982., 1021.,\n",
              "         989.]),\n",
              " array([1.3887882e-03, 5.0011292e+00, 1.0000870e+01, 1.5000610e+01,\n",
              "        2.0000351e+01, 2.5000092e+01, 2.9999832e+01, 3.4999573e+01,\n",
              "        3.9999313e+01, 4.4999054e+01, 4.9998795e+01], dtype=float32),\n",
              " <a list of 10 Patch objects>)"
            ]
          },
          "metadata": {
            "tags": []
          },
          "execution_count": 6
        },
        {
          "output_type": "display_data",
          "data": {
            "image/png": "[encoded data removed]",
            "text/plain": [
              "<Figure size 432x288 with 1 Axes>"
            ]
          },
          "metadata": {
            "tags": [],
            "needs_background": "light"
          }
        }
      ]
    },
    {
      "cell_type": "code",
      "metadata": {
        "id": "CRcsVMvon1Mt",
        "outputId": "2a71d985-ca48-4dbe-f101-cbee6d60bc99",
        "colab": {
          "base_uri": "https://localhost:8080/",
          "height": 34
        }
      },
      "source": [
        "rand = tf. random.normal([4],0,1)\n",
        "print(rand)"
      ],
      "execution_count": 7,
      "outputs": [
        {
          "output_type": "stream",
          "text": [
            "tf.Tensor([-0.3273616   0.5550249   1.2510061   0.04208627], shape=(4,), dtype=float32)\n"
          ],
          "name": "stdout"
        }
      ]
    },
    {
      "cell_type": "code",
      "metadata": {
        "id": "uOWC2LvFn7NO",
        "outputId": "79d27ad6-6459-4fb7-d21f-743bf113c822",
        "colab": {
          "base_uri": "https://localhost:8080/",
          "height": 70
        }
      },
      "source": [
        "rand = tf.random.normal([2,4],0,2)\n",
        "print(rand)"
      ],
      "execution_count": 8,
      "outputs": [
        {
          "output_type": "stream",
          "text": [
            "tf.Tensor(\n",
            "[[-1.2223153  -0.04543678  0.7498752   1.5394057 ]\n",
            " [-2.3939204   0.6848136  -2.2751653  -1.7249633 ]], shape=(2, 4), dtype=float32)\n"
          ],
          "name": "stdout"
        }
      ]
    },
    {
      "cell_type": "code",
      "metadata": {
        "id": "NcKtLjeFn_r3",
        "outputId": "ae2d887a-689a-4096-80dc-2826d9f1b388",
        "colab": {
          "base_uri": "https://localhost:8080/",
          "height": 353
        }
      },
      "source": [
        "import matplotlib.pyplot as plt\n",
        "rand = tf.random.normal([100],0,1)\n",
        "plt.hist(rand, bins=10)"
      ],
      "execution_count": 9,
      "outputs": [
        {
          "output_type": "execute_result",
          "data": {
            "text/plain": [
              "(array([ 7.,  9., 15., 23., 20., 16.,  7.,  2.,  0.,  1.]),\n",
              " array([-1.8313053 , -1.3570552 , -0.8828051 , -0.40855503,  0.06569505,\n",
              "         0.5399451 ,  1.0141952 ,  1.4884453 ,  1.9626954 ,  2.4369454 ,\n",
              "         2.9111955 ], dtype=float32),\n",
              " <a list of 10 Patch objects>)"
            ]
          },
          "metadata": {
            "tags": []
          },
          "execution_count": 9
        },
        {
          "output_type": "display_data",
          "data": {
            "image/png": "[encoded data removed]",
            "text/plain": [
              "<Figure size 432x288 with 1 Axes>"
            ]
          },
          "metadata": {
            "tags": [],
            "needs_background": "light"
          }
        }
      ]
    },
    {
      "cell_type": "code",
      "metadata": {
        "id": "C6cEdCVEoJDK",
        "outputId": "40352c44-b30f-4686-e13d-77aabefe0377",
        "colab": {
          "base_uri": "https://localhost:8080/",
          "height": 881
        }
      },
      "source": [
        "import matplotlib.pyplot as plt\n",
        "rand1 = tf.random.normal([1000],0,1)\n",
        "rand2 = tf.random.uniform([2000],0,1)\n",
        "plt.hist(rand1,bins=100)\n",
        "plt.hist(rand2, bins=100)"
      ],
      "execution_count": 11,
      "outputs": [
        {
          "output_type": "execute_result",
          "data": {
            "text/plain": [
              "(array([18., 14., 19., 17., 22., 21., 24., 19., 10., 25., 19., 18., 18.,\n",
              "        24., 16., 19., 16., 20., 26., 21., 25., 23., 19., 17., 25., 13.,\n",
              "        20., 28., 24., 13., 20., 15., 23., 16., 15., 22., 19., 31., 11.,\n",
              "        16., 14., 27., 30., 18., 20., 19., 10., 29., 16., 15., 25., 19.,\n",
              "        19., 31., 24., 30., 32., 18., 15., 12., 26., 25., 22., 13., 15.,\n",
              "        15., 22., 24., 27., 19., 16., 14., 21., 23., 22., 15., 17., 15.,\n",
              "        24., 14., 21., 18., 19., 20., 28., 23., 19., 17., 23., 19., 17.,\n",
              "        25., 17., 17., 17., 23., 16., 21., 25., 22.]),\n",
              " array([8.6414814e-04, 1.0850960e-02, 2.0837773e-02, 3.0824583e-02,\n",
              "        4.0811397e-02, 5.0798208e-02, 6.0785018e-02, 7.0771828e-02,\n",
              "        8.0758646e-02, 9.0745457e-02, 1.0073227e-01, 1.1071908e-01,\n",
              "        1.2070589e-01, 1.3069271e-01, 1.4067951e-01, 1.5066633e-01,\n",
              "        1.6065314e-01, 1.7063995e-01, 1.8062676e-01, 1.9061357e-01,\n",
              "        2.0060039e-01, 2.1058720e-01, 2.2057401e-01, 2.3056082e-01,\n",
              "        2.4054763e-01, 2.5053445e-01, 2.6052126e-01, 2.7050808e-01,\n",
              "        2.8049487e-01, 2.9048169e-01, 3.0046850e-01, 3.1045532e-01,\n",
              "        3.2044214e-01, 3.3042893e-01, 3.4041575e-01, 3.5040256e-01,\n",
              "        3.6038938e-01, 3.7037620e-01, 3.8036299e-01, 3.9034981e-01,\n",
              "        4.0033662e-01, 4.1032344e-01, 4.2031026e-01, 4.3029705e-01,\n",
              "        4.4028386e-01, 4.5027068e-01, 4.6025750e-01, 4.7024432e-01,\n",
              "        4.8023111e-01, 4.9021792e-01, 5.0020474e-01, 5.1019156e-01,\n",
              "        5.2017838e-01, 5.3016520e-01, 5.4015201e-01, 5.5013883e-01,\n",
              "        5.6012559e-01, 5.7011241e-01, 5.8009923e-01, 5.9008604e-01,\n",
              "        6.0007286e-01, 6.1005968e-01, 6.2004650e-01, 6.3003331e-01,\n",
              "        6.4002013e-01, 6.5000689e-01, 6.5999371e-01, 6.6998053e-01,\n",
              "        6.7996734e-01, 6.8995416e-01, 6.9994098e-01, 7.0992780e-01,\n",
              "        7.1991462e-01, 7.2990143e-01, 7.3988825e-01, 7.4987507e-01,\n",
              "        7.5986183e-01, 7.6984864e-01, 7.7983546e-01, 7.8982228e-01,\n",
              "        7.9980910e-01, 8.0979592e-01, 8.1978273e-01, 8.2976955e-01,\n",
              "        8.3975637e-01, 8.4974313e-01, 8.5972995e-01, 8.6971676e-01,\n",
              "        8.7970358e-01, 8.8969040e-01, 8.9967722e-01, 9.0966403e-01,\n",
              "        9.1965085e-01, 9.2963767e-01, 9.3962449e-01, 9.4961131e-01,\n",
              "        9.5959806e-01, 9.6958488e-01, 9.7957170e-01, 9.8955852e-01,\n",
              "        9.9954534e-01], dtype=float32),\n",
              " <a list of 100 Patch objects>)"
            ]
          },
          "metadata": {
            "tags": []
          },
          "execution_count": 11
        },
        {
          "output_type": "display_data",
          "data": {
            "image/png": "[encoded data removed]",
            "text/plain": [
              "<Figure size 432x288 with 1 Axes>"
            ]
          },
          "metadata": {
            "tags": [],
            "needs_background": "light"
          }
        }
      ]
    },
    {
      "cell_type": "code",
      "metadata": {
        "id": "XGC4P5LsoXO0",
        "outputId": "68a8f81b-9723-4775-e234-db36638c6a17",
        "colab": {
          "base_uri": "https://localhost:8080/",
          "height": 962
        }
      },
      "source": [
        "import matplotlib.pyplot as plt\n",
        "rand1 = tf.random.normal([1000],0,1)\n",
        "rand2 = tf.random.normal([2000],0,1)\n",
        "\n",
        "plt.rcParams[\"figure.figsize\"] = (12,6)\n",
        "fig, axes = plt.subplots(1,2,sharex=True, sharey=True)\n",
        "axes[0].hist(rand1,bins=100)\n",
        "axes[1].hist(rand2, bins=100)\n"
      ],
      "execution_count": 13,
      "outputs": [
        {
          "output_type": "execute_result",
          "data": {
            "text/plain": [
              "(array([ 1.,  0.,  1.,  0.,  0.,  1.,  0.,  0.,  2.,  0.,  1.,  3.,  1.,\n",
              "         2.,  1.,  1.,  2.,  4.,  6.,  9., 10., 11., 13., 11., 19.,  7.,\n",
              "        16., 19., 22., 15., 21., 24., 22., 29., 34., 39., 38., 42., 45.,\n",
              "        52., 45., 55., 67., 44., 55., 59., 50., 48., 53., 51., 43., 52.,\n",
              "        53., 56., 52., 52., 41., 54., 44., 38., 42., 39., 32., 31., 28.,\n",
              "        32., 30., 24., 24., 19., 20., 17.,  9., 12., 12., 15., 13.,  5.,\n",
              "        14.,  8.,  6.,  4.,  4.,  1.,  6.,  3.,  1.,  3.,  1.,  0.,  2.,\n",
              "         2.,  1.,  1.,  0.,  0.,  1.,  1.,  0.,  1.]),\n",
              " array([-3.4148245e+00, -3.3465877e+00, -3.2783508e+00, -3.2101140e+00,\n",
              "        -3.1418772e+00, -3.0736403e+00, -3.0054035e+00, -2.9371667e+00,\n",
              "        -2.8689299e+00, -2.8006933e+00, -2.7324564e+00, -2.6642196e+00,\n",
              "        -2.5959828e+00, -2.5277460e+00, -2.4595091e+00, -2.3912723e+00,\n",
              "        -2.3230355e+00, -2.2547987e+00, -2.1865618e+00, -2.1183250e+00,\n",
              "        -2.0500882e+00, -1.9818515e+00, -1.9136146e+00, -1.8453778e+00,\n",
              "        -1.7771410e+00, -1.7089041e+00, -1.6406673e+00, -1.5724305e+00,\n",
              "        -1.5041937e+00, -1.4359568e+00, -1.3677201e+00, -1.2994833e+00,\n",
              "        -1.2312465e+00, -1.1630096e+00, -1.0947728e+00, -1.0265360e+00,\n",
              "        -9.5829922e-01, -8.9006239e-01, -8.2182556e-01, -7.5358874e-01,\n",
              "        -6.8535197e-01, -6.1711514e-01, -5.4887831e-01, -4.8064151e-01,\n",
              "        -4.1240469e-01, -3.4416789e-01, -2.7593106e-01, -2.0769425e-01,\n",
              "        -1.3945743e-01, -7.1220621e-02, -2.9838085e-03,  6.5253004e-02,\n",
              "         1.3348982e-01,  2.0172663e-01,  2.6996344e-01,  3.3820027e-01,\n",
              "         4.0643707e-01,  4.7467390e-01,  5.4291070e-01,  6.1114752e-01,\n",
              "         6.7938435e-01,  7.4762112e-01,  8.1585795e-01,  8.8409477e-01,\n",
              "         9.5233160e-01,  1.0205684e+00,  1.0888052e+00,  1.1570420e+00,\n",
              "         1.2252789e+00,  1.2935157e+00,  1.3617525e+00,  1.4299892e+00,\n",
              "         1.4982260e+00,  1.5664629e+00,  1.6346997e+00,  1.7029365e+00,\n",
              "         1.7711734e+00,  1.8394102e+00,  1.9076470e+00,  1.9758838e+00,\n",
              "         2.0441206e+00,  2.1123574e+00,  2.1805942e+00,  2.2488310e+00,\n",
              "         2.3170679e+00,  2.3853047e+00,  2.4535415e+00,  2.5217783e+00,\n",
              "         2.5900152e+00,  2.6582520e+00,  2.7264888e+00,  2.7947257e+00,\n",
              "         2.8629622e+00,  2.9311991e+00,  2.9994359e+00,  3.0676727e+00,\n",
              "         3.1359096e+00,  3.2041464e+00,  3.2723832e+00,  3.3406200e+00,\n",
              "         3.4088569e+00], dtype=float32),\n",
              " <a list of 100 Patch objects>)"
            ]
          },
          "metadata": {
            "tags": []
          },
          "execution_count": 13
        },
        {
          "output_type": "display_data",
          "data": {
            "image/png": "[encoded data removed]",
            "text/plain": [
              "<Figure size 864x432 with 2 Axes>"
            ]
          },
          "metadata": {
            "tags": [],
            "needs_background": "light"
          }
        }
      ]
    },
    {
      "cell_type": "code",
      "metadata": {
        "id": "KcdM8N_Uoz_R",
        "outputId": "942bb241-64e1-4184-af02-d6bcad949c69",
        "colab": {
          "base_uri": "https://localhost:8080/",
          "height": 52
        }
      },
      "source": [
        "import numpy as np\n",
        "a=np.arange(10)\n",
        "print(a)\n",
        "tf.random.shuffle(a)"
      ],
      "execution_count": 14,
      "outputs": [
        {
          "output_type": "stream",
          "text": [
            "[0 1 2 3 4 5 6 7 8 9]\n"
          ],
          "name": "stdout"
        },
        {
          "output_type": "execute_result",
          "data": {
            "text/plain": [
              "<tf.Tensor: shape=(10,), dtype=int64, numpy=array([4, 0, 6, 8, 9, 1, 2, 7, 5, 3])>"
            ]
          },
          "metadata": {
            "tags": []
          },
          "execution_count": 14
        }
      ]
    },
    {
      "cell_type": "code",
      "metadata": {
        "id": "SibTA-45pAQI",
        "outputId": "27ca89f6-997a-432f-c8f5-c1b62dae0282",
        "colab": {
          "base_uri": "https://localhost:8080/",
          "height": 87
        }
      },
      "source": [
        "import numpy as np\n",
        "a=np.arange(20).reshape(4,5)\n",
        "a"
      ],
      "execution_count": 15,
      "outputs": [
        {
          "output_type": "execute_result",
          "data": {
            "text/plain": [
              "array([[ 0,  1,  2,  3,  4],\n",
              "       [ 5,  6,  7,  8,  9],\n",
              "       [10, 11, 12, 13, 14],\n",
              "       [15, 16, 17, 18, 19]])"
            ]
          },
          "metadata": {
            "tags": []
          },
          "execution_count": 15
        }
      ]
    },
    {
      "cell_type": "code",
      "metadata": {
        "id": "HiBcJ06kpFkG",
        "outputId": "19239e5a-04b9-4bf5-a205-c5186c7ee309",
        "colab": {
          "base_uri": "https://localhost:8080/",
          "height": 105
        }
      },
      "source": [
        "tf.random.shuffle(a)"
      ],
      "execution_count": 16,
      "outputs": [
        {
          "output_type": "execute_result",
          "data": {
            "text/plain": [
              "<tf.Tensor: shape=(4, 5), dtype=int64, numpy=\n",
              "array([[15, 16, 17, 18, 19],\n",
              "       [ 0,  1,  2,  3,  4],\n",
              "       [ 5,  6,  7,  8,  9],\n",
              "       [10, 11, 12, 13, 14]])>"
            ]
          },
          "metadata": {
            "tags": []
          },
          "execution_count": 16
        }
      ]
    },
    {
      "cell_type": "code",
      "metadata": {
        "id": "tmdoMTzypHui"
      },
      "source": [
        ""
      ],
      "execution_count": null,
      "outputs": []
    }
  ]
}