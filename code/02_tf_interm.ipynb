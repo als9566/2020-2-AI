{
  "nbformat": 4,
  "nbformat_minor": 0,
  "metadata": {
    "colab": {
      "name": "02-tf-interm.ipynb",
      "provenance": [],
      "collapsed_sections": [],
      "authorship_tag": "ABX9TyNvH7Zf/6w7Fjxxm7BdVIcC",
      "include_colab_link": true
    },
    "kernelspec": {
      "name": "python3",
      "display_name": "Python 3"
    }
  },
  "cells": [
    {
      "cell_type": "markdown",
      "metadata": {
        "id": "view-in-github",
        "colab_type": "text"
      },
      "source": [
        "<a href=\"https://colab.research.google.com/github/als9566/2020-2-AI/blob/master/code/02_tf_interm.ipynb\" target=\"_parent\"><img src=\"https://colab.research.google.com/assets/colab-badge.svg\" alt=\"Open In Colab\"/></a>"
      ]
    },
    {
      "cell_type": "markdown",
      "metadata": {
        "id": "1QxRIPfRS9mx"
      },
      "source": [
        "#텐서플로"
      ]
    },
    {
      "cell_type": "code",
      "metadata": {
        "id": "T-X6mtRdS2HZ",
        "outputId": "84ce0e47-8343-49f1-d791-56843a44800a",
        "colab": {
          "base_uri": "https://localhost:8080/",
          "height": 35
        }
      },
      "source": [
        "import tensorflow as tf\n",
        "tf.__version__"
      ],
      "execution_count": null,
      "outputs": [
        {
          "output_type": "execute_result",
          "data": {
            "application/vnd.google.colaboratory.intrinsic+json": {
              "type": "string"
            },
            "text/plain": [
              "'2.3.0'"
            ]
          },
          "metadata": {
            "tags": []
          },
          "execution_count": 1
        }
      ]
    },
    {
      "cell_type": "code",
      "metadata": {
        "id": "0MzmW3-wTpOi",
        "outputId": "11aa5de5-c510-45e3-feaa-96a6f74383ba",
        "colab": {
          "base_uri": "https://localhost:8080/",
          "height": 34
        }
      },
      "source": [
        "# 텐서플로 2.0에서 즉시 실행은 기본으로 활성화\n",
        "tf.executing_eagerly()"
      ],
      "execution_count": null,
      "outputs": [
        {
          "output_type": "execute_result",
          "data": {
            "text/plain": [
              "True"
            ]
          },
          "metadata": {
            "tags": []
          },
          "execution_count": 2
        }
      ]
    },
    {
      "cell_type": "code",
      "metadata": {
        "id": "dS8Iw7YlTv11",
        "outputId": "92a10b0f-0be1-48a6-d388-0df66a352585",
        "colab": {
          "base_uri": "https://localhost:8080/",
          "height": 105
        }
      },
      "source": [
        "a = tf.constant([[1,2],\n",
        "                 [3,4]])\n",
        "print(a)\n",
        "print(a.numpy())"
      ],
      "execution_count": null,
      "outputs": [
        {
          "output_type": "stream",
          "text": [
            "tf.Tensor(\n",
            "[[1 2]\n",
            " [3 4]], shape=(2, 2), dtype=int32)\n",
            "[[1 2]\n",
            " [3 4]]\n"
          ],
          "name": "stdout"
        }
      ]
    },
    {
      "cell_type": "markdown",
      "metadata": {
        "id": "MD9toYAGUCRG"
      },
      "source": [
        "# 2차원 행렬 곱셉"
      ]
    },
    {
      "cell_type": "code",
      "metadata": {
        "id": "ozIqrmYKT5E9",
        "outputId": "44917e43-45f5-4a59-9143-002551b919ef",
        "colab": {
          "base_uri": "https://localhost:8080/",
          "height": 52
        }
      },
      "source": [
        "x = [[2.]]\n",
        "m = tf.matmul(x, x)\n",
        "print(m)\n",
        "print(m.numpy())"
      ],
      "execution_count": null,
      "outputs": [
        {
          "output_type": "stream",
          "text": [
            "tf.Tensor([[4.]], shape=(1, 1), dtype=float32)\n",
            "[[4.]]\n"
          ],
          "name": "stdout"
        }
      ]
    },
    {
      "cell_type": "code",
      "metadata": {
        "id": "GHPpKlkPWLiv",
        "outputId": "5ba80316-36b6-421c-8acf-c175b3d5707d",
        "colab": {
          "base_uri": "https://localhost:8080/",
          "height": 52
        }
      },
      "source": [
        "# Matrix multiplications 1\n",
        "matrix1 = tf.constant([[1.,2.],[3.,4.]])\n",
        "matrix2 = tf.constant([[2.,0.],[1.,2.]])\n",
        "\n",
        "gop = tf.matmul(matrix1, matrix2)\n",
        "print(gop.numpy())"
      ],
      "execution_count": null,
      "outputs": [
        {
          "output_type": "stream",
          "text": [
            "[[ 4.  4.]\n",
            " [10.  8.]]\n"
          ],
          "name": "stdout"
        }
      ]
    },
    {
      "cell_type": "code",
      "metadata": {
        "id": "XkEyioNtWiAe",
        "outputId": "92bd8960-6192-45e5-81ad-7782712fba36",
        "colab": {
          "base_uri": "https://localhost:8080/",
          "height": 52
        }
      },
      "source": [
        "# Matrix multiplication 2\n",
        "gop =tf.matmul(matrix2, matrix1)\n",
        "print(gop.numpy())"
      ],
      "execution_count": null,
      "outputs": [
        {
          "output_type": "stream",
          "text": [
            "[[ 2.  4.]\n",
            " [ 7. 10.]]\n"
          ],
          "name": "stdout"
        }
      ]
    },
    {
      "cell_type": "code",
      "metadata": {
        "id": "UT9gz0D5WrYO",
        "outputId": "118fc71e-676e-4aa3-8d5a-7c1992c76538",
        "colab": {
          "base_uri": "https://localhost:8080/",
          "height": 87
        }
      },
      "source": [
        "x = tf.constant([[0],[10],[20],[30]])\n",
        "y = tf.constant([0,1,2])\n",
        "\n",
        "print((x+y).numpy())"
      ],
      "execution_count": null,
      "outputs": [
        {
          "output_type": "stream",
          "text": [
            "[[ 0  1  2]\n",
            " [10 11 12]\n",
            " [20 21 22]\n",
            " [30 31 32]]\n"
          ],
          "name": "stdout"
        }
      ]
    },
    {
      "cell_type": "markdown",
      "metadata": {
        "id": "Wm5evCADXwZu"
      },
      "source": [
        "# 브로드캐스팅"
      ]
    },
    {
      "cell_type": "code",
      "metadata": {
        "id": "DksL-YUQXtOp",
        "outputId": "7e4ef1c0-2eeb-4fe3-a66f-5e16ecb7ec93",
        "colab": {
          "base_uri": "https://localhost:8080/",
          "height": 70
        }
      },
      "source": [
        "# 브로드캐스팅(Broadcasting) 지원\n",
        "a = tf.constant([[1,2],\n",
        "                 [3,4]])\n",
        "b = tf.add(a, 1)\n",
        "print(b)"
      ],
      "execution_count": null,
      "outputs": [
        {
          "output_type": "stream",
          "text": [
            "tf.Tensor(\n",
            "[[2 3]\n",
            " [4 5]], shape=(2, 2), dtype=int32)\n"
          ],
          "name": "stdout"
        }
      ]
    },
    {
      "cell_type": "code",
      "metadata": {
        "id": "1Sg7kvgQY1Wm",
        "outputId": "9e0b16f8-dc52-422c-ba95-3262780f92bb",
        "colab": {
          "base_uri": "https://localhost:8080/",
          "height": 87
        }
      },
      "source": [
        "x = tf.constant([[0], [10],[20],[30]])\n",
        "y = tf.constant([0,1,2])\n",
        "\n",
        "print((x+y).numpy())"
      ],
      "execution_count": null,
      "outputs": [
        {
          "output_type": "stream",
          "text": [
            "[[ 0  1  2]\n",
            " [10 11 12]\n",
            " [20 21 22]\n",
            " [30 31 32]]\n"
          ],
          "name": "stdout"
        }
      ]
    },
    {
      "cell_type": "code",
      "metadata": {
        "id": "EGJHkIZzY_06"
      },
      "source": [
        ""
      ],
      "execution_count": null,
      "outputs": []
    },
    {
      "cell_type": "code",
      "metadata": {
        "id": "88Cv8rT0W25j",
        "outputId": "e481dc08-3486-4bf4-d209-d8227a30bb9a",
        "colab": {
          "base_uri": "https://localhost:8080/",
          "height": 158
        }
      },
      "source": [
        "import numpy as np\n",
        "\n",
        "print(np.arange(3))\n",
        "print(np.ones((3,3)))\n",
        "print()\n",
        "\n",
        "x = tf.constant((np.arange(3)))\n",
        "y = tf.constant([5], dtype=tf.int64)\n",
        "print(x)\n",
        "print(y)\n",
        "print(x+y)"
      ],
      "execution_count": null,
      "outputs": [
        {
          "output_type": "stream",
          "text": [
            "[0 1 2]\n",
            "[[1. 1. 1.]\n",
            " [1. 1. 1.]\n",
            " [1. 1. 1.]]\n",
            "\n",
            "tf.Tensor([0 1 2], shape=(3,), dtype=int64)\n",
            "tf.Tensor([5], shape=(1,), dtype=int64)\n",
            "tf.Tensor([5 6 7], shape=(3,), dtype=int64)\n"
          ],
          "name": "stdout"
        }
      ]
    },
    {
      "cell_type": "code",
      "metadata": {
        "id": "2ZuRpl2gXLhF",
        "outputId": "d9837dec-c903-431e-964c-6a7c6d26f80d",
        "colab": {
          "base_uri": "https://localhost:8080/",
          "height": 140
        }
      },
      "source": [
        "x = tf.constant((np.arange(3)))\n",
        "y = tf.constant([5], dtype=tf.int64)\n",
        "print((x+y).numpy())\n",
        "\n",
        "x = tf.constant((np.ones((3,3))))\n",
        "y = tf.constant(np.arange(3), dtype=tf.double)\n",
        "print((x+y).numpy())\n",
        "\n",
        "x = tf.constant(np.arange(3).reshape(3,1))\n",
        "y = tf.constant(np.arange(3))\n",
        "print((x+y).numpy())"
      ],
      "execution_count": null,
      "outputs": [
        {
          "output_type": "stream",
          "text": [
            "[5 6 7]\n",
            "[[1. 2. 3.]\n",
            " [1. 2. 3.]\n",
            " [1. 2. 3.]]\n",
            "[[0 1 2]\n",
            " [1 2 3]\n",
            " [2 3 4]]\n"
          ],
          "name": "stdout"
        }
      ]
    },
    {
      "cell_type": "markdown",
      "metadata": {
        "id": "bcEdMLrhZQ3X"
      },
      "source": [
        "# 텐서플로 연산"
      ]
    },
    {
      "cell_type": "code",
      "metadata": {
        "id": "uD6vKdESZUV0",
        "outputId": "05f4e7a7-9e4d-4864-b0ac-4508a6309753",
        "colab": {
          "base_uri": "https://localhost:8080/",
          "height": 34
        }
      },
      "source": [
        "a = 2\n",
        "b = 3\n",
        "c = tf.add(a, b)\n",
        "print(c.numpy())"
      ],
      "execution_count": null,
      "outputs": [
        {
          "output_type": "stream",
          "text": [
            "5\n"
          ],
          "name": "stdout"
        }
      ]
    },
    {
      "cell_type": "code",
      "metadata": {
        "id": "6MgSif24Zj_A",
        "outputId": "510fa9f8-07c0-4107-ff19-f725cdf5d014",
        "colab": {
          "base_uri": "https://localhost:8080/",
          "height": 34
        }
      },
      "source": [
        "x = 2\n",
        "y = 3\n",
        "add_op = tf.add(x,y)\n",
        "mul_op = tf.multiply(x,y)\n",
        "pow_op = tf.pow(add_op,mul_op)\n",
        "\n",
        "print(pow_op.numpy())"
      ],
      "execution_count": null,
      "outputs": [
        {
          "output_type": "stream",
          "text": [
            "15625\n"
          ],
          "name": "stdout"
        }
      ]
    },
    {
      "cell_type": "code",
      "metadata": {
        "id": "KEHqL9u3Z5WB",
        "outputId": "02bca56f-4de8-4a44-c1f9-10fe3820139f",
        "colab": {
          "base_uri": "https://localhost:8080/",
          "height": 52
        }
      },
      "source": [
        "a = tf.constant(2.)\n",
        "b = tf.constant(3.)\n",
        "c = tf.constant(5.)\n",
        "\n",
        "# Some more operations.\n",
        "mean = tf.reduce_mean([a,b,c])\n",
        "sum = tf.reduce_sum([a,b,c])\n",
        "\n",
        "print(\"mean = \",mean.numpy())\n",
        "print(\"sum = \",sum.numpy())"
      ],
      "execution_count": null,
      "outputs": [
        {
          "output_type": "stream",
          "text": [
            "mean =  3.3333333\n",
            "sum =  10.0\n"
          ],
          "name": "stdout"
        }
      ]
    },
    {
      "cell_type": "markdown",
      "metadata": {
        "id": "CKRr5usqa9lI"
      },
      "source": [
        "# 행렬,원소와의  곱"
      ]
    },
    {
      "cell_type": "code",
      "metadata": {
        "id": "kaxKIm2UadS3",
        "outputId": "6baf9e82-d8e7-46f4-f237-2dcc89eec272",
        "colab": {
          "base_uri": "https://localhost:8080/",
          "height": 105
        }
      },
      "source": [
        "# 연산자 오버로딩 지원\n",
        "print(a)\n",
        "# 텐서로부터 numpy 값 얻기 :\n",
        "print(a.numpy())\n",
        "print(b)\n",
        "print(b.numpy())\n",
        "print(a*b)"
      ],
      "execution_count": null,
      "outputs": [
        {
          "output_type": "stream",
          "text": [
            "tf.Tensor(2.0, shape=(), dtype=float32)\n",
            "2.0\n",
            "tf.Tensor(3.0, shape=(), dtype=float32)\n",
            "3.0\n",
            "tf.Tensor(6.0, shape=(), dtype=float32)\n"
          ],
          "name": "stdout"
        }
      ]
    },
    {
      "cell_type": "code",
      "metadata": {
        "id": "vYfXh5VjbgC5",
        "outputId": "809ab1ce-e07b-46c3-fc67-20f0c040f945",
        "colab": {
          "base_uri": "https://localhost:8080/",
          "height": 34
        }
      },
      "source": [
        "# NumPy값 사용\n",
        "import numpy as np\n",
        "\n",
        "c = np.multiply(a,b)\n",
        "print(c)"
      ],
      "execution_count": null,
      "outputs": [
        {
          "output_type": "stream",
          "text": [
            "6.0\n"
          ],
          "name": "stdout"
        }
      ]
    },
    {
      "cell_type": "markdown",
      "metadata": {
        "id": "UzH3gR0NcEhl"
      },
      "source": [
        "#rank"
      ]
    },
    {
      "cell_type": "code",
      "metadata": {
        "id": "zseRtb-vbo_8",
        "outputId": "e0eeb9a4-6a5d-4f3d-f38b-47ab484764f6",
        "colab": {
          "base_uri": "https://localhost:8080/",
          "height": 34
        }
      },
      "source": [
        "my_image = tf.zeros([2,5,5,3])\n",
        "my_image.shape"
      ],
      "execution_count": null,
      "outputs": [
        {
          "output_type": "execute_result",
          "data": {
            "text/plain": [
              "TensorShape([2, 5, 5, 3])"
            ]
          },
          "metadata": {
            "tags": []
          },
          "execution_count": 23
        }
      ]
    },
    {
      "cell_type": "code",
      "metadata": {
        "id": "NkXmi3VGcQPc",
        "outputId": "0539ee11-d19a-4f1d-810c-82a9b12a8c8a",
        "colab": {
          "base_uri": "https://localhost:8080/",
          "height": 34
        }
      },
      "source": [
        "tf.rank(my_image)"
      ],
      "execution_count": null,
      "outputs": [
        {
          "output_type": "execute_result",
          "data": {
            "text/plain": [
              "<tf.Tensor: shape=(), dtype=int32, numpy=4>"
            ]
          },
          "metadata": {
            "tags": []
          },
          "execution_count": 24
        }
      ]
    },
    {
      "cell_type": "markdown",
      "metadata": {
        "id": "h6khJaqocX5F"
      },
      "source": [
        "#shape,reshape"
      ]
    },
    {
      "cell_type": "code",
      "metadata": {
        "id": "KgWLrLLscS2P",
        "outputId": "a84c0437-b7ea-4e8c-cbd5-b6b97aa13196",
        "colab": {
          "base_uri": "https://localhost:8080/",
          "height": 34
        }
      },
      "source": [
        "rank_three_tensor = tf.ones([3,4,5])\n",
        "rank_three_tensor.shape"
      ],
      "execution_count": null,
      "outputs": [
        {
          "output_type": "execute_result",
          "data": {
            "text/plain": [
              "TensorShape([3, 4, 5])"
            ]
          },
          "metadata": {
            "tags": []
          },
          "execution_count": 25
        }
      ]
    },
    {
      "cell_type": "code",
      "metadata": {
        "id": "EaTjwiw5chQD",
        "outputId": "00849f1f-8531-4d08-99cd-95102a38c613",
        "colab": {
          "base_uri": "https://localhost:8080/",
          "height": 263
        }
      },
      "source": [
        "rank_three_tensor.numpy()"
      ],
      "execution_count": null,
      "outputs": [
        {
          "output_type": "execute_result",
          "data": {
            "text/plain": [
              "array([[[1., 1., 1., 1., 1.],\n",
              "        [1., 1., 1., 1., 1.],\n",
              "        [1., 1., 1., 1., 1.],\n",
              "        [1., 1., 1., 1., 1.]],\n",
              "\n",
              "       [[1., 1., 1., 1., 1.],\n",
              "        [1., 1., 1., 1., 1.],\n",
              "        [1., 1., 1., 1., 1.],\n",
              "        [1., 1., 1., 1., 1.]],\n",
              "\n",
              "       [[1., 1., 1., 1., 1.],\n",
              "        [1., 1., 1., 1., 1.],\n",
              "        [1., 1., 1., 1., 1.],\n",
              "        [1., 1., 1., 1., 1.]]], dtype=float32)"
            ]
          },
          "metadata": {
            "tags": []
          },
          "execution_count": 26
        }
      ]
    },
    {
      "cell_type": "code",
      "metadata": {
        "id": "QEloRFzCcjq1",
        "outputId": "32365831-512e-42ff-cc43-f0cd49a6bbbe",
        "colab": {
          "base_uri": "https://localhost:8080/",
          "height": 140
        }
      },
      "source": [
        "# 기존 내용을 6x10 행렬로 형태 변경\n",
        "matrix = tf.reshape(rank_three_tensor, [6,10])\n",
        "matrix"
      ],
      "execution_count": null,
      "outputs": [
        {
          "output_type": "execute_result",
          "data": {
            "text/plain": [
              "<tf.Tensor: shape=(6, 10), dtype=float32, numpy=\n",
              "array([[1., 1., 1., 1., 1., 1., 1., 1., 1., 1.],\n",
              "       [1., 1., 1., 1., 1., 1., 1., 1., 1., 1.],\n",
              "       [1., 1., 1., 1., 1., 1., 1., 1., 1., 1.],\n",
              "       [1., 1., 1., 1., 1., 1., 1., 1., 1., 1.],\n",
              "       [1., 1., 1., 1., 1., 1., 1., 1., 1., 1.],\n",
              "       [1., 1., 1., 1., 1., 1., 1., 1., 1., 1.]], dtype=float32)>"
            ]
          },
          "metadata": {
            "tags": []
          },
          "execution_count": 27
        }
      ]
    },
    {
      "cell_type": "code",
      "metadata": {
        "id": "PHdKrUmjc1-g",
        "outputId": "cfa38a91-b6c1-46cd-b87a-0167fe994bc3",
        "colab": {
          "base_uri": "https://localhost:8080/",
          "height": 140
        }
      },
      "source": [
        "# 기존 내용을 3x20 행렬로 형태 변경\n",
        "# -1은 차원 크기를 계산하여 자동으로 결정하라는 의미\n",
        "matrixB = tf.reshape(matrix, [3,-1])\n",
        "matrixB"
      ],
      "execution_count": null,
      "outputs": [
        {
          "output_type": "execute_result",
          "data": {
            "text/plain": [
              "<tf.Tensor: shape=(3, 20), dtype=float32, numpy=\n",
              "array([[1., 1., 1., 1., 1., 1., 1., 1., 1., 1., 1., 1., 1., 1., 1., 1.,\n",
              "        1., 1., 1., 1.],\n",
              "       [1., 1., 1., 1., 1., 1., 1., 1., 1., 1., 1., 1., 1., 1., 1., 1.,\n",
              "        1., 1., 1., 1.],\n",
              "       [1., 1., 1., 1., 1., 1., 1., 1., 1., 1., 1., 1., 1., 1., 1., 1.,\n",
              "        1., 1., 1., 1.]], dtype=float32)>"
            ]
          },
          "metadata": {
            "tags": []
          },
          "execution_count": 28
        }
      ]
    },
    {
      "cell_type": "code",
      "metadata": {
        "id": "aOh_B1HUdE6z",
        "outputId": "42dead6c-5874-4532-defe-6165a16be646",
        "colab": {
          "base_uri": "https://localhost:8080/",
          "height": 169
        }
      },
      "source": [
        "yet_another = tf.reshape(matrixAlt, [13,2,-1]) #에러!"
      ],
      "execution_count": null,
      "outputs": [
        {
          "output_type": "error",
          "ename": "NameError",
          "evalue": "ignored",
          "traceback": [
            "\u001b[0;31m---------------------------------------------------------------------------\u001b[0m",
            "\u001b[0;31mNameError\u001b[0m                                 Traceback (most recent call last)",
            "\u001b[0;32m<ipython-input-29-4f71bfee6f55>\u001b[0m in \u001b[0;36m<module>\u001b[0;34m()\u001b[0m\n\u001b[0;32m----> 1\u001b[0;31m \u001b[0myet_another\u001b[0m \u001b[0;34m=\u001b[0m \u001b[0mtf\u001b[0m\u001b[0;34m.\u001b[0m\u001b[0mreshape\u001b[0m\u001b[0;34m(\u001b[0m\u001b[0mmatrixAlt\u001b[0m\u001b[0;34m,\u001b[0m \u001b[0;34m[\u001b[0m\u001b[0;36m13\u001b[0m\u001b[0;34m,\u001b[0m\u001b[0;36m2\u001b[0m\u001b[0;34m,\u001b[0m\u001b[0;34m-\u001b[0m\u001b[0;36m1\u001b[0m\u001b[0;34m]\u001b[0m\u001b[0;34m)\u001b[0m\u001b[0;34m\u001b[0m\u001b[0;34m\u001b[0m\u001b[0m\n\u001b[0m",
            "\u001b[0;31mNameError\u001b[0m: name 'matrixAlt' is not defined"
          ]
        }
      ]
    },
    {
      "cell_type": "markdown",
      "metadata": {
        "id": "gqvH9OXldUTx"
      },
      "source": [
        "#자료형과 변환"
      ]
    },
    {
      "cell_type": "code",
      "metadata": {
        "id": "oXpEVKsDdOrj",
        "outputId": "a46a0841-c109-456e-ee6c-6db8d6b778a7",
        "colab": {
          "base_uri": "https://localhost:8080/",
          "height": 34
        }
      },
      "source": [
        "float_tensor = tf.cast(tf.constant([1,2,3]),dtype=tf.float32)\n",
        "float_tensor"
      ],
      "execution_count": null,
      "outputs": [
        {
          "output_type": "execute_result",
          "data": {
            "text/plain": [
              "<tf.Tensor: shape=(3,), dtype=float32, numpy=array([1., 2., 3.], dtype=float32)>"
            ]
          },
          "metadata": {
            "tags": []
          },
          "execution_count": 31
        }
      ]
    },
    {
      "cell_type": "code",
      "metadata": {
        "id": "l3RsgHEPdgT7",
        "outputId": "f3451db1-8a44-4b4d-c5e9-642a018afcb9",
        "colab": {
          "base_uri": "https://localhost:8080/",
          "height": 34
        }
      },
      "source": [
        "float_tensor.dtype"
      ],
      "execution_count": null,
      "outputs": [
        {
          "output_type": "execute_result",
          "data": {
            "text/plain": [
              "tf.float32"
            ]
          },
          "metadata": {
            "tags": []
          },
          "execution_count": 32
        }
      ]
    },
    {
      "cell_type": "markdown",
      "metadata": {
        "id": "jIqGN9oYdnw9"
      },
      "source": [
        "#변수 Variable"
      ]
    },
    {
      "cell_type": "code",
      "metadata": {
        "id": "Ndue202pdmzj",
        "outputId": "eec0f4e0-857b-4a63-f8f3-f8f876b7ef12",
        "colab": {
          "base_uri": "https://localhost:8080/",
          "height": 34
        }
      },
      "source": [
        "v = tf.Variable(0.0)\n",
        "v"
      ],
      "execution_count": null,
      "outputs": [
        {
          "output_type": "execute_result",
          "data": {
            "text/plain": [
              "<tf.Variable 'Variable:0' shape=() dtype=float32, numpy=0.0>"
            ]
          },
          "metadata": {
            "tags": []
          },
          "execution_count": 33
        }
      ]
    },
    {
      "cell_type": "code",
      "metadata": {
        "id": "0norPh-WduGR",
        "outputId": "467769b5-1665-4d68-a0b2-78151fa2a85d",
        "colab": {
          "base_uri": "https://localhost:8080/",
          "height": 34
        }
      },
      "source": [
        "w = v+10\n",
        "w"
      ],
      "execution_count": null,
      "outputs": [
        {
          "output_type": "execute_result",
          "data": {
            "text/plain": [
              "<tf.Tensor: shape=(), dtype=float32, numpy=10.0>"
            ]
          },
          "metadata": {
            "tags": []
          },
          "execution_count": 35
        }
      ]
    },
    {
      "cell_type": "code",
      "metadata": {
        "id": "jdzpSSOAdwGt",
        "outputId": "447f3171-7207-4bd4-968a-70839da18df2",
        "colab": {
          "base_uri": "https://localhost:8080/",
          "height": 34
        }
      },
      "source": [
        "w.numpy()"
      ],
      "execution_count": null,
      "outputs": [
        {
          "output_type": "execute_result",
          "data": {
            "text/plain": [
              "10.0"
            ]
          },
          "metadata": {
            "tags": []
          },
          "execution_count": 36
        }
      ]
    },
    {
      "cell_type": "code",
      "metadata": {
        "id": "yChZ-Es_d0C6",
        "outputId": "ae08f78c-9391-4861-f7ff-b948708d6b0a",
        "colab": {
          "base_uri": "https://localhost:8080/",
          "height": 34
        }
      },
      "source": [
        "v = tf.Variable(2.0)\n",
        "v.assign_add(5)\n",
        "v"
      ],
      "execution_count": null,
      "outputs": [
        {
          "output_type": "execute_result",
          "data": {
            "text/plain": [
              "<tf.Variable 'Variable:0' shape=() dtype=float32, numpy=7.0>"
            ]
          },
          "metadata": {
            "tags": []
          },
          "execution_count": 37
        }
      ]
    },
    {
      "cell_type": "code",
      "metadata": {
        "id": "MjFMT_KFd567",
        "outputId": "f42895bd-2a8f-4a5c-d868-c885a9726857",
        "colab": {
          "base_uri": "https://localhost:8080/",
          "height": 34
        }
      },
      "source": [
        "v.read_value()"
      ],
      "execution_count": null,
      "outputs": [
        {
          "output_type": "execute_result",
          "data": {
            "text/plain": [
              "<tf.Tensor: shape=(), dtype=float32, numpy=7.0>"
            ]
          },
          "metadata": {
            "tags": []
          },
          "execution_count": 38
        }
      ]
    },
    {
      "cell_type": "code",
      "metadata": {
        "id": "Qctiviz4d7VG",
        "outputId": "6684c4db-9e4a-4e8f-9687-53ec1debafc9",
        "colab": {
          "base_uri": "https://localhost:8080/",
          "height": 370
        }
      },
      "source": [
        "import matplotlib.pyplot as plt\n",
        "rand = tf.random.uniform([10000],0,50)\n",
        "plt.hist(rand, bins=10)"
      ],
      "execution_count": null,
      "outputs": [
        {
          "output_type": "execute_result",
          "data": {
            "text/plain": [
              "(array([1016., 1016., 1048.,  967., 1017.,  977.,  995.,  964.,  983.,\n",
              "        1017.]),\n",
              " array([4.2974949e-03, 5.0038137e+00, 1.0003329e+01, 1.5002846e+01,\n",
              "        2.0002361e+01, 2.5001879e+01, 3.0001394e+01, 3.5000912e+01,\n",
              "        4.0000427e+01, 4.4999943e+01, 4.9999458e+01], dtype=float32),\n",
              " <a list of 10 Patch objects>)"
            ]
          },
          "metadata": {
            "tags": []
          },
          "execution_count": 39
        },
        {
          "output_type": "display_data",
          "data": {
            "image/png": "[encoded data removed]",
            "text/plain": [
              "<Figure size 432x288 with 1 Axes>"
            ]
          },
          "metadata": {
            "tags": [],
            "needs_background": "light"
          }
        }
      ]
    },
    {
      "cell_type": "code",
      "metadata": {
        "id": "kIXSYa84gGCZ",
        "outputId": "5afea879-7969-4b86-8052-a42675ddb367",
        "colab": {
          "base_uri": "https://localhost:8080/",
          "height": 34
        }
      },
      "source": [
        "rand = tf.random.normal([4],0,1)\n",
        "print(rand)"
      ],
      "execution_count": null,
      "outputs": [
        {
          "output_type": "stream",
          "text": [
            "tf.Tensor([-1.0051858   1.2291456  -1.2532612  -0.24205218], shape=(4,), dtype=float32)\n"
          ],
          "name": "stdout"
        }
      ]
    },
    {
      "cell_type": "code",
      "metadata": {
        "id": "gWBNNyr9gWof",
        "outputId": "7ec57ad6-3ea2-4dbf-db49-1c46a7744212",
        "colab": {
          "base_uri": "https://localhost:8080/",
          "height": 70
        }
      },
      "source": [
        "rand = tf.random.normal([2,4],0,2)\n",
        "print(rand)"
      ],
      "execution_count": null,
      "outputs": [
        {
          "output_type": "stream",
          "text": [
            "tf.Tensor(\n",
            "[[-3.981227    4.2785344   0.7773894   2.0672226 ]\n",
            " [-1.0487068  -0.29860651 -1.5202352   2.1976314 ]], shape=(2, 4), dtype=float32)\n"
          ],
          "name": "stdout"
        }
      ]
    },
    {
      "cell_type": "code",
      "metadata": {
        "id": "Ambo2ra7gcNA",
        "outputId": "529d50c0-6f25-44f8-aff5-b49b659027ee",
        "colab": {
          "base_uri": "https://localhost:8080/",
          "height": 793
        }
      },
      "source": [
        "import matplotlib.pyplot as plt\n",
        "rand = tf.random.normal([1000],0,1)\n",
        "plt.hist(rand, bins=100)"
      ],
      "execution_count": null,
      "outputs": [
        {
          "output_type": "execute_result",
          "data": {
            "text/plain": [
              "(array([ 1.,  1.,  0.,  0.,  0.,  0.,  0.,  0.,  1.,  1.,  3.,  0.,  2.,\n",
              "         0.,  2.,  0.,  4.,  4.,  3.,  9.,  5.,  8.,  2.,  8.,  5., 14.,\n",
              "        11., 10., 11., 16., 14., 11., 15., 13., 19., 14., 15., 25., 19.,\n",
              "        29., 29., 32., 29., 29., 33., 33., 30., 21., 32., 35., 21., 26.,\n",
              "        23., 30., 21., 18., 21., 22., 19., 22., 19., 15., 10., 18., 11.,\n",
              "        17., 12., 12.,  9.,  6.,  6.,  2., 10.,  6.,  5.,  4.,  1.,  3.,\n",
              "         4.,  0.,  2.,  0.,  1.,  3.,  0.,  0.,  0.,  1.,  0.,  1.,  0.,\n",
              "         0.,  0.,  0.,  0.,  0.,  0.,  0.,  0.,  1.]),\n",
              " array([-3.3093288 , -3.2392697 , -3.1692104 , -3.0991514 , -3.029092  ,\n",
              "        -2.959033  , -2.8889737 , -2.8189147 , -2.7488556 , -2.6787963 ,\n",
              "        -2.6087372 , -2.538678  , -2.4686189 , -2.3985596 , -2.3285005 ,\n",
              "        -2.2584414 , -2.1883821 , -2.118323  , -2.0482638 , -1.9782047 ,\n",
              "        -1.9081455 , -1.8380864 , -1.7680272 , -1.697968  , -1.6279088 ,\n",
              "        -1.5578496 , -1.4877906 , -1.4177314 , -1.3476722 , -1.277613  ,\n",
              "        -1.2075539 , -1.1374947 , -1.0674355 , -0.9973764 , -0.92731726,\n",
              "        -0.8572581 , -0.7871989 , -0.7171397 , -0.6470806 , -0.5770214 ,\n",
              "        -0.50696224, -0.4369031 , -0.36684394, -0.29678476, -0.2267256 ,\n",
              "        -0.15666643, -0.08660727, -0.01654811,  0.05351106,  0.12357022,\n",
              "         0.19362938,  0.26368853,  0.3337477 ,  0.40380687,  0.47386605,\n",
              "         0.5439252 ,  0.61398435,  0.6840435 ,  0.7541027 ,  0.8241618 ,\n",
              "         0.894221  ,  0.9642802 ,  1.0343393 ,  1.1043985 ,  1.1744577 ,\n",
              "         1.2445168 ,  1.314576  ,  1.3846352 ,  1.4546943 ,  1.5247535 ,\n",
              "         1.5948126 ,  1.6648718 ,  1.734931  ,  1.8049902 ,  1.8750494 ,\n",
              "         1.9451084 ,  2.0151677 ,  2.0852268 ,  2.155286  ,  2.2253451 ,\n",
              "         2.2954042 ,  2.3654635 ,  2.4355226 ,  2.5055819 ,  2.575641  ,\n",
              "         2.6457002 ,  2.7157593 ,  2.7858183 ,  2.8558776 ,  2.9259367 ,\n",
              "         2.995996  ,  3.066055  ,  3.1361144 ,  3.2061734 ,  3.2762325 ,\n",
              "         3.3462918 ,  3.4163508 ,  3.4864101 ,  3.5564692 ,  3.6265285 ,\n",
              "         3.6965876 ], dtype=float32),\n",
              " <a list of 100 Patch objects>)"
            ]
          },
          "metadata": {
            "tags": []
          },
          "execution_count": 43
        },
        {
          "output_type": "display_data",
          "data": {
            "image/png": "[encoded data removed]",
            "text/plain": [
              "<Figure size 432x288 with 1 Axes>"
            ]
          },
          "metadata": {
            "tags": [],
            "needs_background": "light"
          }
        }
      ]
    },
    {
      "cell_type": "code",
      "metadata": {
        "id": "XOL8EEufgnex",
        "outputId": "2b693fcb-fb5d-4936-e6b4-5b38b0df1b1e",
        "colab": {
          "base_uri": "https://localhost:8080/",
          "height": 564
        }
      },
      "source": [
        "import matplotlib.pyplot as plt\n",
        "rand1 = tf.random.normal([1000],0,1)\n",
        "rand2 = tf.random.normal([2000],0,1)\n",
        "plt.hist(rand1,bins=100)\n",
        "plt.hist(rand2,bins=50)"
      ],
      "execution_count": null,
      "outputs": [
        {
          "output_type": "execute_result",
          "data": {
            "text/plain": [
              "(array([  3.,   1.,   4.,   0.,   8.,   6.,  11.,   9.,  10.,  16.,  23.,\n",
              "         47.,  49.,  56.,  71.,  71.,  90., 100.,  97., 106., 128., 115.,\n",
              "        122., 109., 114.,  87.,  98.,  84.,  75.,  66.,  64.,  38.,  23.,\n",
              "         26.,  25.,   9.,  10.,   9.,   5.,   6.,   3.,   2.,   0.,   0.,\n",
              "          0.,   1.,   0.,   1.,   1.,   1.]),\n",
              " array([-3.1916938 , -3.0468128 , -2.9019318 , -2.7570505 , -2.6121695 ,\n",
              "        -2.4672885 , -2.3224075 , -2.1775262 , -2.0326452 , -1.8877642 ,\n",
              "        -1.7428831 , -1.5980021 , -1.453121  , -1.3082399 , -1.1633588 ,\n",
              "        -1.0184778 , -0.8735967 , -0.72871566, -0.5838346 , -0.43895352,\n",
              "        -0.29407245, -0.14919136, -0.0043103 ,  0.14057076,  0.28545183,\n",
              "         0.4303329 ,  0.57521397,  0.72009504,  0.8649761 ,  1.0098572 ,\n",
              "         1.1547382 ,  1.2996193 ,  1.4445003 ,  1.5893815 ,  1.7342625 ,\n",
              "         1.8791436 ,  2.0240247 ,  2.1689057 ,  2.3137867 ,  2.4586678 ,\n",
              "         2.603549  ,  2.74843   ,  2.893311  ,  3.038192  ,  3.1830733 ,\n",
              "         3.3279543 ,  3.4728353 ,  3.6177163 ,  3.7625976 ,  3.9074786 ,\n",
              "         4.0523596 ], dtype=float32),\n",
              " <a list of 50 Patch objects>)"
            ]
          },
          "metadata": {
            "tags": []
          },
          "execution_count": 46
        },
        {
          "output_type": "display_data",
          "data": {
            "image/png": "[encoded data removed]",
            "text/plain": [
              "<Figure size 432x288 with 1 Axes>"
            ]
          },
          "metadata": {
            "tags": [],
            "needs_background": "light"
          }
        }
      ]
    },
    {
      "cell_type": "code",
      "metadata": {
        "id": "CBTXrkgpgyV_",
        "outputId": "6cca15d9-ddf2-4f39-fa7d-c7aad8383077",
        "colab": {
          "base_uri": "https://localhost:8080/",
          "height": 865
        }
      },
      "source": [
        "import matplotlib.pyplot as plt\n",
        "rand1 = tf.random.normal([1000],0,1)\n",
        "rand2 = tf.random.normal([2000],0,1)\n",
        "\n",
        "plt.rcParams[\"figure.figsize\"] = (12,6)\n",
        "fig, axes = plt.subplots(1,2,sharex=True, sharey=True)\n",
        "axes[0].hist(rand1, bins=100)\n",
        "axes[1].hist(rand2, bins=100)\n"
      ],
      "execution_count": null,
      "outputs": [
        {
          "output_type": "execute_result",
          "data": {
            "text/plain": [
              "(array([ 1.,  2.,  0.,  2.,  0.,  1.,  1.,  1.,  3.,  2.,  1.,  3.,  7.,\n",
              "         7.,  4.,  8.,  6.,  8., 10.,  9., 16., 14., 13., 20., 19., 24.,\n",
              "        26., 16., 24., 27., 28., 34., 35., 36., 35., 36., 41., 40., 50.,\n",
              "        40., 47., 58., 60., 45., 46., 53., 60., 62., 57., 53., 41., 55.,\n",
              "        53., 48., 41., 49., 38., 33., 48., 41., 43., 30., 24., 26., 24.,\n",
              "        23., 17., 18., 10., 16., 23., 15., 11.,  9.,  8.,  8.,  4.,  8.,\n",
              "         6.,  7.,  4.,  2.,  5.,  4.,  3.,  1.,  4.,  1.,  1.,  0.,  1.,\n",
              "         1.,  2.,  1.,  1.,  0.,  0.,  0.,  0.,  1.]),\n",
              " array([-3.0960047 , -3.0297859 , -2.9635673 , -2.8973484 , -2.8311296 ,\n",
              "        -2.764911  , -2.698692  , -2.6324732 , -2.5662546 , -2.5000358 ,\n",
              "        -2.433817  , -2.3675983 , -2.3013794 , -2.2351606 , -2.1689417 ,\n",
              "        -2.1027231 , -2.0365043 , -1.9702855 , -1.9040668 , -1.837848  ,\n",
              "        -1.7716292 , -1.7054104 , -1.6391916 , -1.5729729 , -1.506754  ,\n",
              "        -1.4405353 , -1.3743166 , -1.3080977 , -1.241879  , -1.1756603 ,\n",
              "        -1.1094414 , -1.0432227 , -0.9770039 , -0.9107851 , -0.84456635,\n",
              "        -0.77834755, -0.71212876, -0.64590997, -0.57969123, -0.51347244,\n",
              "        -0.44725364, -0.38103488, -0.31481612, -0.24859732, -0.18237855,\n",
              "        -0.11615977, -0.049941  ,  0.01627778,  0.08249655,  0.14871533,\n",
              "         0.21493411,  0.28115287,  0.34737167,  0.41359043,  0.47980922,\n",
              "         0.546028  ,  0.61224675,  0.67846555,  0.74468434,  0.8109031 ,\n",
              "         0.87712187,  0.94334066,  1.0095594 ,  1.0757782 ,  1.141997  ,\n",
              "         1.2082157 ,  1.2744346 ,  1.3406533 ,  1.406872  ,  1.4730909 ,\n",
              "         1.5393096 ,  1.6055285 ,  1.6717472 ,  1.737966  ,  1.8041848 ,\n",
              "         1.8704035 ,  1.9366223 ,  2.002841  ,  2.0690598 ,  2.1352787 ,\n",
              "         2.2014973 ,  2.2677162 ,  2.333935  ,  2.4001536 ,  2.4663725 ,\n",
              "         2.5325913 ,  2.59881   ,  2.6650288 ,  2.7312477 ,  2.7974665 ,\n",
              "         2.8636851 ,  2.929904  ,  2.9961228 ,  3.0623415 ,  3.1285603 ,\n",
              "         3.1947792 ,  3.2609978 ,  3.3272166 ,  3.3934355 ,  3.459654  ,\n",
              "         3.525873  ], dtype=float32),\n",
              " <a list of 100 Patch objects>)"
            ]
          },
          "metadata": {
            "tags": []
          },
          "execution_count": 47
        },
        {
          "output_type": "display_data",
          "data": {
            "image/png": "[encoded data removed]",
            "text/plain": [
              "<Figure size 864x432 with 2 Axes>"
            ]
          },
          "metadata": {
            "tags": [],
            "needs_background": "light"
          }
        }
      ]
    },
    {
      "cell_type": "code",
      "metadata": {
        "id": "tbR4IGmFhw64",
        "outputId": "396e3be1-baf8-4247-b1df-c5d7e90429fb",
        "colab": {
          "base_uri": "https://localhost:8080/",
          "height": 52
        }
      },
      "source": [
        "import numpy as np\n",
        "a = np.arange(10)\n",
        "print(a)\n",
        "tf.random.shuffle(a)"
      ],
      "execution_count": null,
      "outputs": [
        {
          "output_type": "stream",
          "text": [
            "[0 1 2 3 4 5 6 7 8 9]\n"
          ],
          "name": "stdout"
        },
        {
          "output_type": "execute_result",
          "data": {
            "text/plain": [
              "<tf.Tensor: shape=(10,), dtype=int64, numpy=array([7, 2, 5, 1, 9, 6, 8, 4, 3, 0])>"
            ]
          },
          "metadata": {
            "tags": []
          },
          "execution_count": 48
        }
      ]
    },
    {
      "cell_type": "code",
      "metadata": {
        "id": "PnAbQa6Wh8Og",
        "outputId": "cf8b235d-efe8-4acd-c18b-54425aab5642",
        "colab": {
          "base_uri": "https://localhost:8080/",
          "height": 87
        }
      },
      "source": [
        "import numpy as np\n",
        "a = np.arange(20).reshape(4,5)\n",
        "a"
      ],
      "execution_count": null,
      "outputs": [
        {
          "output_type": "execute_result",
          "data": {
            "text/plain": [
              "array([[ 0,  1,  2,  3,  4],\n",
              "       [ 5,  6,  7,  8,  9],\n",
              "       [10, 11, 12, 13, 14],\n",
              "       [15, 16, 17, 18, 19]])"
            ]
          },
          "metadata": {
            "tags": []
          },
          "execution_count": 49
        }
      ]
    },
    {
      "cell_type": "code",
      "metadata": {
        "id": "4YAp3thGiCgJ",
        "outputId": "e8a02c1b-ddcf-40ec-dc6d-cb7ea5658329",
        "colab": {
          "base_uri": "https://localhost:8080/",
          "height": 105
        }
      },
      "source": [
        "tf.random.shuffle(a)"
      ],
      "execution_count": null,
      "outputs": [
        {
          "output_type": "execute_result",
          "data": {
            "text/plain": [
              "<tf.Tensor: shape=(4, 5), dtype=int64, numpy=\n",
              "array([[10, 11, 12, 13, 14],\n",
              "       [ 0,  1,  2,  3,  4],\n",
              "       [ 5,  6,  7,  8,  9],\n",
              "       [15, 16, 17, 18, 19]])>"
            ]
          },
          "metadata": {
            "tags": []
          },
          "execution_count": 50
        }
      ]
    },
    {
      "cell_type": "code",
      "metadata": {
        "id": "rKFXkpKwiFt4"
      },
      "source": [
        ""
      ],
      "execution_count": null,
      "outputs": []
    }
  ]
}